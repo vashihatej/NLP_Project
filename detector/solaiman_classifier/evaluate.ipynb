{
 "cells": [
  {
   "cell_type": "code",
   "execution_count": 1,
   "metadata": {},
   "outputs": [],
   "source": [
    "import os\n",
    "os.chdir(\"../..\")"
   ]
  },
  {
   "cell_type": "code",
   "execution_count": 2,
   "metadata": {
    "ExecuteTime": {
     "end_time": "2023-08-27T14:53:58.017309Z",
     "start_time": "2023-08-27T14:53:54.568446700Z"
    },
    "collapsed": true
   },
   "outputs": [
    {
     "data": {
      "text/plain": [
       "RobertaForSequenceClassification(\n",
       "  (roberta): RobertaModel(\n",
       "    (embeddings): RobertaEmbeddings(\n",
       "      (word_embeddings): Embedding(50265, 768, padding_idx=1)\n",
       "      (position_embeddings): Embedding(514, 768, padding_idx=1)\n",
       "      (token_type_embeddings): Embedding(1, 768)\n",
       "      (LayerNorm): LayerNorm((768,), eps=1e-05, elementwise_affine=True)\n",
       "      (dropout): Dropout(p=0.1, inplace=False)\n",
       "    )\n",
       "    (encoder): BertEncoder(\n",
       "      (layer): ModuleList(\n",
       "        (0-11): 12 x BertLayer(\n",
       "          (attention): BertAttention(\n",
       "            (self): BertSelfAttention(\n",
       "              (query): Linear(in_features=768, out_features=768, bias=True)\n",
       "              (key): Linear(in_features=768, out_features=768, bias=True)\n",
       "              (value): Linear(in_features=768, out_features=768, bias=True)\n",
       "              (dropout): Dropout(p=0.1, inplace=False)\n",
       "            )\n",
       "            (output): BertSelfOutput(\n",
       "              (dense): Linear(in_features=768, out_features=768, bias=True)\n",
       "              (LayerNorm): LayerNorm((768,), eps=1e-05, elementwise_affine=True)\n",
       "              (dropout): Dropout(p=0.1, inplace=False)\n",
       "            )\n",
       "          )\n",
       "          (intermediate): BertIntermediate(\n",
       "            (dense): Linear(in_features=768, out_features=3072, bias=True)\n",
       "          )\n",
       "          (output): BertOutput(\n",
       "            (dense): Linear(in_features=3072, out_features=768, bias=True)\n",
       "            (LayerNorm): LayerNorm((768,), eps=1e-05, elementwise_affine=True)\n",
       "            (dropout): Dropout(p=0.1, inplace=False)\n",
       "          )\n",
       "        )\n",
       "      )\n",
       "    )\n",
       "    (pooler): BertPooler(\n",
       "      (dense): Linear(in_features=768, out_features=768, bias=True)\n",
       "      (activation): Tanh()\n",
       "    )\n",
       "  )\n",
       "  (classifier): RobertaClassificationHead(\n",
       "    (dense): Linear(in_features=768, out_features=768, bias=True)\n",
       "    (dropout): Dropout(p=0.1, inplace=False)\n",
       "    (out_proj): Linear(in_features=768, out_features=2, bias=True)\n",
       "  )\n",
       ")"
      ]
     },
     "execution_count": 2,
     "metadata": {},
     "output_type": "execute_result"
    }
   ],
   "source": [
    "# Use transformer previous version\n",
    "import torch\n",
    "import json\n",
    "from tqdm import tqdm\n",
    "from pathlib import Path\n",
    "from transformers import RobertaForSequenceClassification, RobertaTokenizer\n",
    "\n",
    "state_path = Path(\"data\", \"checkpoint\", \"solaiman-detector-base.pt\")\n",
    "model = RobertaForSequenceClassification.from_pretrained(\"roberta-base\")\n",
    "tokenizer = RobertaTokenizer.from_pretrained(\"roberta-base\", truncation=True, max_length=510)\n",
    "\n",
    "model.load_state_dict(torch.load(state_path)[\"model_state_dict\"])\n",
    "model.to(\"cuda\")\n"
   ]
  },
  {
   "cell_type": "code",
   "execution_count": 3,
   "metadata": {},
   "outputs": [],
   "source": [
    "def load_line(content):\n",
    "    entry = json.loads(content)\n",
    "    return {\"text\": entry[\"text\"], \"source\": entry[\"extra\"][\"source\"]}\n",
    "\n",
    "\n",
    "def evaluate_entry(entry, model):\n",
    "    text, src = entry[\"text\"], entry[\"source\"]\n",
    "\n",
    "    # encode\n",
    "    tokens = tokenizer.encode(text, max_length=512)\n",
    "    tokens = tokens[:tokenizer.max_len - 2]\n",
    "    tokens = torch.tensor([tokenizer.bos_token_id] + tokens + [tokenizer.eos_token_id]).unsqueeze(0)\n",
    "    mask = torch.ones_like(tokens)\n",
    "\n",
    "    # forward propagation\n",
    "    with torch.no_grad():\n",
    "        logits = model(tokens.to(\"cuda\"), attention_mask=mask.to(\"cuda\"))[0]\n",
    "        probs = logits.softmax(dim=-1)\n",
    "\n",
    "    # update statistics\n",
    "    generated, human = probs.detach().cpu().flatten().numpy().tolist()\n",
    "\n",
    "    return {\"pred\": [generated, human], \"source\": src}\n"
   ]
  },
  {
   "cell_type": "code",
   "execution_count": 4,
   "metadata": {},
   "outputs": [],
   "source": [
    "def evaluate_files(from_files, to_files, model):\n",
    "    for from_file, to_file in zip(from_files, to_files):\n",
    "        with open(Path(\"data\", \"split\", from_file), \"r\") as f:\n",
    "            content = f.read().strip().split(\"\\n\")\n",
    "\n",
    "        with open(Path(\"data\", \"baselines\", \"solaiman\", to_file), \"w\") as f:\n",
    "            for line in tqdm(content):\n",
    "                entry = load_line(line)\n",
    "                try:\n",
    "                    result = evaluate_entry(entry, model)\n",
    "                    f.write(json.dumps(result) + \"\\n\")\n",
    "                except:\n",
    "                    print(\"Failed to process\", entry)\n",
    "                    pass\n"
   ]
  },
  {
   "cell_type": "code",
   "execution_count": 5,
   "metadata": {},
   "outputs": [
    {
     "name": "stderr",
     "output_type": "stream",
     "text": [
      " 35%|███▍      | 2583/7400 [00:51<01:20, 59.81it/s]"
     ]
    },
    {
     "name": "stdout",
     "output_type": "stream",
     "text": [
      "Failed to process {'text': '', 'source': 'palm'}\n"
     ]
    },
    {
     "name": "stderr",
     "output_type": "stream",
     "text": [
      " 93%|█████████▎| 6877/7400 [02:12<00:08, 60.75it/s]"
     ]
    },
    {
     "name": "stdout",
     "output_type": "stream",
     "text": [
      "Failed to process {'text': '', 'source': 'palm'}\n"
     ]
    },
    {
     "name": "stderr",
     "output_type": "stream",
     "text": [
      "100%|██████████| 7400/7400 [02:22<00:00, 51.76it/s]\n",
      "100%|██████████| 6587/6587 [02:19<00:00, 47.36it/s]\n",
      "100%|██████████| 7385/7385 [03:03<00:00, 40.33it/s]\n"
     ]
    }
   ],
   "source": [
    "evaluate_files(\n",
    "    [\n",
    "        # \"open-web-text/test.jsonl\", \"open-gpt-text/test.jsonl\", \n",
    "        \"open-palm-text/test.jsonl\", \"open-llama-text/test.jsonl\", \"gpt2-output/test.jsonl\"\n",
    "    ],\n",
    "    [\n",
    "        # \"solaiman-openweb.jsonl\", \"solaiman-opengpt.jsonl\",\n",
    "        \"solaiman-openpalm.jsonl\", \"solaiman-openllama.jsonl\", \"solaiman-gpt2.jsonl\"\n",
    "    ],\n",
    "    model\n",
    ")"
   ]
  }
 ],
 "metadata": {
  "kernelspec": {
   "display_name": "Python 3",
   "language": "python",
   "name": "python3"
  },
  "language_info": {
   "codemirror_mode": {
    "name": "ipython",
    "version": 3
   },
   "file_extension": ".py",
   "mimetype": "text/x-python",
   "name": "python",
   "nbconvert_exporter": "python",
   "pygments_lexer": "ipython3",
   "version": "3.8.16"
  }
 },
 "nbformat": 4,
 "nbformat_minor": 0
}
